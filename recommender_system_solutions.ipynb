{
 "cells": [
  {
   "cell_type": "markdown",
   "metadata": {},
   "source": [
    "# Recommender System\n",
    "\n",
    "Loading the students' ratings from the csv file TA_data.csv using pandas.DataFrame.from_csv."
   ]
  },
  {
   "cell_type": "code",
   "execution_count": 1,
   "metadata": {
    "collapsed": false
   },
   "outputs": [
    {
     "data": {
      "text/html": [
       "<div>\n",
       "<table border=\"1\" class=\"dataframe\">\n",
       "  <thead>\n",
       "    <tr style=\"text-align: right;\">\n",
       "      <th></th>\n",
       "      <th>Harry Potter</th>\n",
       "      <th>Groundhog Day</th>\n",
       "      <th>Life of Brian</th>\n",
       "      <th>Indiana Jones</th>\n",
       "      <th>Lawrence of Arabia</th>\n",
       "      <th>Jurassic Park</th>\n",
       "      <th>Rushmore</th>\n",
       "      <th>Grease</th>\n",
       "      <th>The Godfather</th>\n",
       "      <th>Spinal Tap</th>\n",
       "      <th>...</th>\n",
       "      <th>Titanic</th>\n",
       "      <th>The English Patient</th>\n",
       "      <th>Avatar</th>\n",
       "      <th>Star Wars</th>\n",
       "      <th>Gone with the Wind</th>\n",
       "      <th>Casablanca</th>\n",
       "      <th>Jaws</th>\n",
       "      <th>Top Gun</th>\n",
       "      <th>Toy Story</th>\n",
       "      <th>Lord of the Rings</th>\n",
       "    </tr>\n",
       "  </thead>\n",
       "  <tbody>\n",
       "    <tr>\n",
       "      <th>Brian</th>\n",
       "      <td>3</td>\n",
       "      <td>2</td>\n",
       "      <td>3</td>\n",
       "      <td>3</td>\n",
       "      <td>3</td>\n",
       "      <td>3</td>\n",
       "      <td>3</td>\n",
       "      <td>3</td>\n",
       "      <td>4</td>\n",
       "      <td>3</td>\n",
       "      <td>...</td>\n",
       "      <td>2</td>\n",
       "      <td>2</td>\n",
       "      <td>3</td>\n",
       "      <td>4</td>\n",
       "      <td>2</td>\n",
       "      <td>2</td>\n",
       "      <td>3</td>\n",
       "      <td>3</td>\n",
       "      <td>4</td>\n",
       "      <td>4</td>\n",
       "    </tr>\n",
       "    <tr>\n",
       "      <th>Rachel</th>\n",
       "      <td>2</td>\n",
       "      <td>3</td>\n",
       "      <td>4</td>\n",
       "      <td>3</td>\n",
       "      <td>2</td>\n",
       "      <td>3</td>\n",
       "      <td>4</td>\n",
       "      <td>3</td>\n",
       "      <td>3</td>\n",
       "      <td>4</td>\n",
       "      <td>...</td>\n",
       "      <td>1</td>\n",
       "      <td>1</td>\n",
       "      <td>3</td>\n",
       "      <td>3</td>\n",
       "      <td>2</td>\n",
       "      <td>1</td>\n",
       "      <td>3</td>\n",
       "      <td>3</td>\n",
       "      <td>4</td>\n",
       "      <td>3</td>\n",
       "    </tr>\n",
       "    <tr>\n",
       "      <th>Sid</th>\n",
       "      <td>2</td>\n",
       "      <td>5</td>\n",
       "      <td>4</td>\n",
       "      <td>2</td>\n",
       "      <td>3</td>\n",
       "      <td>2</td>\n",
       "      <td>4</td>\n",
       "      <td>4</td>\n",
       "      <td>1</td>\n",
       "      <td>4</td>\n",
       "      <td>...</td>\n",
       "      <td>3</td>\n",
       "      <td>3</td>\n",
       "      <td>2</td>\n",
       "      <td>2</td>\n",
       "      <td>4</td>\n",
       "      <td>3</td>\n",
       "      <td>2</td>\n",
       "      <td>1</td>\n",
       "      <td>3</td>\n",
       "      <td>2</td>\n",
       "    </tr>\n",
       "    <tr>\n",
       "      <th>Jessie</th>\n",
       "      <td>3</td>\n",
       "      <td>4</td>\n",
       "      <td>3</td>\n",
       "      <td>3</td>\n",
       "      <td>3</td>\n",
       "      <td>3</td>\n",
       "      <td>3</td>\n",
       "      <td>3</td>\n",
       "      <td>3</td>\n",
       "      <td>3</td>\n",
       "      <td>...</td>\n",
       "      <td>3</td>\n",
       "      <td>3</td>\n",
       "      <td>3</td>\n",
       "      <td>3</td>\n",
       "      <td>4</td>\n",
       "      <td>4</td>\n",
       "      <td>3</td>\n",
       "      <td>3</td>\n",
       "      <td>3</td>\n",
       "      <td>3</td>\n",
       "    </tr>\n",
       "    <tr>\n",
       "      <th>Beliz</th>\n",
       "      <td>4</td>\n",
       "      <td>1</td>\n",
       "      <td>1</td>\n",
       "      <td>5</td>\n",
       "      <td>4</td>\n",
       "      <td>4</td>\n",
       "      <td>2</td>\n",
       "      <td>2</td>\n",
       "      <td>4</td>\n",
       "      <td>1</td>\n",
       "      <td>...</td>\n",
       "      <td>4</td>\n",
       "      <td>4</td>\n",
       "      <td>4</td>\n",
       "      <td>4</td>\n",
       "      <td>2</td>\n",
       "      <td>4</td>\n",
       "      <td>4</td>\n",
       "      <td>5</td>\n",
       "      <td>2</td>\n",
       "      <td>4</td>\n",
       "    </tr>\n",
       "    <tr>\n",
       "      <th>Saavan</th>\n",
       "      <td>4</td>\n",
       "      <td>2</td>\n",
       "      <td>2</td>\n",
       "      <td>4</td>\n",
       "      <td>3</td>\n",
       "      <td>3</td>\n",
       "      <td>2</td>\n",
       "      <td>3</td>\n",
       "      <td>4</td>\n",
       "      <td>2</td>\n",
       "      <td>...</td>\n",
       "      <td>3</td>\n",
       "      <td>3</td>\n",
       "      <td>4</td>\n",
       "      <td>4</td>\n",
       "      <td>2</td>\n",
       "      <td>3</td>\n",
       "      <td>4</td>\n",
       "      <td>4</td>\n",
       "      <td>3</td>\n",
       "      <td>4</td>\n",
       "    </tr>\n",
       "    <tr>\n",
       "      <th>Jane</th>\n",
       "      <td>2</td>\n",
       "      <td>5</td>\n",
       "      <td>5</td>\n",
       "      <td>1</td>\n",
       "      <td>2</td>\n",
       "      <td>2</td>\n",
       "      <td>4</td>\n",
       "      <td>4</td>\n",
       "      <td>2</td>\n",
       "      <td>5</td>\n",
       "      <td>...</td>\n",
       "      <td>2</td>\n",
       "      <td>2</td>\n",
       "      <td>2</td>\n",
       "      <td>2</td>\n",
       "      <td>4</td>\n",
       "      <td>2</td>\n",
       "      <td>2</td>\n",
       "      <td>1</td>\n",
       "      <td>4</td>\n",
       "      <td>2</td>\n",
       "    </tr>\n",
       "    <tr>\n",
       "      <th>Edward</th>\n",
       "      <td>3</td>\n",
       "      <td>4</td>\n",
       "      <td>3</td>\n",
       "      <td>3</td>\n",
       "      <td>3</td>\n",
       "      <td>3</td>\n",
       "      <td>3</td>\n",
       "      <td>3</td>\n",
       "      <td>2</td>\n",
       "      <td>3</td>\n",
       "      <td>...</td>\n",
       "      <td>4</td>\n",
       "      <td>4</td>\n",
       "      <td>3</td>\n",
       "      <td>2</td>\n",
       "      <td>4</td>\n",
       "      <td>4</td>\n",
       "      <td>3</td>\n",
       "      <td>2</td>\n",
       "      <td>2</td>\n",
       "      <td>2</td>\n",
       "    </tr>\n",
       "    <tr>\n",
       "      <th>Deborah</th>\n",
       "      <td>4</td>\n",
       "      <td>1</td>\n",
       "      <td>2</td>\n",
       "      <td>4</td>\n",
       "      <td>3</td>\n",
       "      <td>4</td>\n",
       "      <td>2</td>\n",
       "      <td>2</td>\n",
       "      <td>4</td>\n",
       "      <td>2</td>\n",
       "      <td>...</td>\n",
       "      <td>3</td>\n",
       "      <td>3</td>\n",
       "      <td>4</td>\n",
       "      <td>4</td>\n",
       "      <td>2</td>\n",
       "      <td>2</td>\n",
       "      <td>4</td>\n",
       "      <td>4</td>\n",
       "      <td>4</td>\n",
       "      <td>4</td>\n",
       "    </tr>\n",
       "    <tr>\n",
       "      <th>Ana</th>\n",
       "      <td>3</td>\n",
       "      <td>4</td>\n",
       "      <td>3</td>\n",
       "      <td>3</td>\n",
       "      <td>3</td>\n",
       "      <td>3</td>\n",
       "      <td>3</td>\n",
       "      <td>3</td>\n",
       "      <td>2</td>\n",
       "      <td>3</td>\n",
       "      <td>...</td>\n",
       "      <td>4</td>\n",
       "      <td>4</td>\n",
       "      <td>3</td>\n",
       "      <td>2</td>\n",
       "      <td>4</td>\n",
       "      <td>4</td>\n",
       "      <td>3</td>\n",
       "      <td>3</td>\n",
       "      <td>2</td>\n",
       "      <td>2</td>\n",
       "    </tr>\n",
       "  </tbody>\n",
       "</table>\n",
       "<p>10 rows × 25 columns</p>\n",
       "</div>"
      ],
      "text/plain": [
       "         Harry Potter  Groundhog Day  Life of Brian  Indiana Jones  \\\n",
       "Brian               3              2              3              3   \n",
       "Rachel              2              3              4              3   \n",
       "Sid                 2              5              4              2   \n",
       "Jessie              3              4              3              3   \n",
       "Beliz               4              1              1              5   \n",
       "Saavan              4              2              2              4   \n",
       "Jane                2              5              5              1   \n",
       "Edward              3              4              3              3   \n",
       "Deborah             4              1              2              4   \n",
       "Ana                 3              4              3              3   \n",
       "\n",
       "         Lawrence of Arabia  Jurassic Park  Rushmore  Grease  The Godfather  \\\n",
       "Brian                     3              3         3       3              4   \n",
       "Rachel                    2              3         4       3              3   \n",
       "Sid                       3              2         4       4              1   \n",
       "Jessie                    3              3         3       3              3   \n",
       "Beliz                     4              4         2       2              4   \n",
       "Saavan                    3              3         2       3              4   \n",
       "Jane                      2              2         4       4              2   \n",
       "Edward                    3              3         3       3              2   \n",
       "Deborah                   3              4         2       2              4   \n",
       "Ana                       3              3         3       3              2   \n",
       "\n",
       "         Spinal Tap        ...          Titanic  The English Patient  Avatar  \\\n",
       "Brian             3        ...                2                    2       3   \n",
       "Rachel            4        ...                1                    1       3   \n",
       "Sid               4        ...                3                    3       2   \n",
       "Jessie            3        ...                3                    3       3   \n",
       "Beliz             1        ...                4                    4       4   \n",
       "Saavan            2        ...                3                    3       4   \n",
       "Jane              5        ...                2                    2       2   \n",
       "Edward            3        ...                4                    4       3   \n",
       "Deborah           2        ...                3                    3       4   \n",
       "Ana               3        ...                4                    4       3   \n",
       "\n",
       "         Star Wars  Gone with the Wind  Casablanca  Jaws  Top Gun  Toy Story  \\\n",
       "Brian            4                   2           2     3        3          4   \n",
       "Rachel           3                   2           1     3        3          4   \n",
       "Sid              2                   4           3     2        1          3   \n",
       "Jessie           3                   4           4     3        3          3   \n",
       "Beliz            4                   2           4     4        5          2   \n",
       "Saavan           4                   2           3     4        4          3   \n",
       "Jane             2                   4           2     2        1          4   \n",
       "Edward           2                   4           4     3        2          2   \n",
       "Deborah          4                   2           2     4        4          4   \n",
       "Ana              2                   4           4     3        3          2   \n",
       "\n",
       "         Lord of the Rings  \n",
       "Brian                    4  \n",
       "Rachel                   3  \n",
       "Sid                      2  \n",
       "Jessie                   3  \n",
       "Beliz                    4  \n",
       "Saavan                   4  \n",
       "Jane                     2  \n",
       "Edward                   2  \n",
       "Deborah                  4  \n",
       "Ana                      2  \n",
       "\n",
       "[10 rows x 25 columns]"
      ]
     },
     "execution_count": 1,
     "metadata": {},
     "output_type": "execute_result"
    }
   ],
   "source": [
    "import pandas as pd\n",
    "import numpy as np\n",
    "import matplotlib.pyplot as plt\n",
    "%matplotlib inline\n",
    "student_data = pd.DataFrame.from_csv(\"data_TAs.csv\")\n",
    "student_data"
   ]
  },
  {
   "cell_type": "markdown",
   "metadata": {},
   "source": [
    "## Question A\n",
    "Below, the ratings matrix is being stored in the variable ```ratings```. \n",
    "1. Calculate the mean of the rows $u$ and subtract it from each row of the matrix.\n",
    "2. Compute the SVD of the resulting matrix using ```np.linalg.svd``` and plot the singular values.\n",
    "\n",
    "***Please look at the documentation of np.linalg.svd to understand its return values.***"
   ]
  },
  {
   "cell_type": "code",
   "execution_count": 2,
   "metadata": {
    "collapsed": false
   },
   "outputs": [
    {
     "name": "stdout",
     "output_type": "stream",
     "text": [
      "[[3 2 3 3 3 3 3 3 4 3 4 4 3 4 3 2 2 3 4 2 2 3 3 4 4]\n",
      " [2 3 4 3 2 3 4 3 3 4 5 3 4 3 3 1 1 3 3 2 1 3 3 4 3]\n",
      " [2 5 4 2 3 2 4 4 1 4 3 1 4 2 2 3 3 2 2 4 3 2 1 3 2]\n",
      " [3 4 3 3 3 3 3 3 3 3 3 2 3 3 3 3 3 3 3 4 4 3 3 3 3]\n",
      " [4 1 1 5 4 4 2 2 4 1 1 4 1 4 4 4 4 4 4 2 4 4 5 2 4]\n",
      " [4 2 2 4 3 3 2 3 4 2 2 4 2 4 4 3 3 4 4 2 3 4 4 3 4]\n",
      " [2 5 5 1 2 2 4 4 2 5 5 2 5 2 2 2 2 2 2 4 2 2 1 4 2]\n",
      " [3 4 3 3 3 3 3 3 2 3 3 2 3 2 3 4 4 3 2 4 4 3 2 2 2]\n",
      " [4 1 2 4 3 4 2 2 4 2 3 5 3 4 4 3 3 4 4 2 2 4 4 4 4]\n",
      " [3 4 3 3 3 3 3 3 2 3 2 2 3 2 3 4 4 3 2 4 4 3 3 2 2]]\n"
     ]
    }
   ],
   "source": [
    "ratings = np.array(student_data.values)\n",
    "print(ratings)"
   ]
  },
  {
   "cell_type": "code",
   "execution_count": 3,
   "metadata": {
    "collapsed": false
   },
   "outputs": [
    {
     "data": {
      "text/plain": [
       "[<matplotlib.lines.Line2D at 0x7f20e1385438>]"
      ]
     },
     "execution_count": 3,
     "metadata": {},
     "output_type": "execute_result"
    },
    {
     "data": {
      "image/png": "[encoded data removed]",
      "text/plain": [
       "<matplotlib.figure.Figure at 0x7f20e3861f28>"
      ]
     },
     "metadata": {},
     "output_type": "display_data"
    }
   ],
   "source": [
    "# YOUR WORK FOR QUESTION A HERE \n",
    "u = np.mean(ratings, axis=0)\n",
    "ratings = ratings - u\n",
    "(U, s, VT) = np.linalg.svd(ratings)\n",
    "plt.plot(s)"
   ]
  },
  {
   "cell_type": "markdown",
   "metadata": {},
   "source": [
    "# Question B\n",
    "\n",
    "- It seems like 3 singular values contribute most of the information in the data set. \n",
    "- Truncate the SVD to build a rank 3 model of the data. That is, find ```(U_truncated, S_truncated, VT_truncated)``` of dimensions ```((10, 3), (3, 3), (3, 25))``` respectively such that ```U_truncated.dot(S_truncated.dot(VT_truncated))``` is a good approximation to the data matrix. ***Hint.*** You might need ```np.linalg.diag``` on the singular values given the output of ```np.linalg.svd```. **Look at the documentation.**\n",
    "- What is the percentage error between the true ratings and the low rank model? the percentage error is defined as:  ```np.linalg.norm(ratings - ratings_approx)/np.linalg.norm(ratings) * 100```\n"
   ]
  },
  {
   "cell_type": "code",
   "execution_count": 4,
   "metadata": {
    "collapsed": false
   },
   "outputs": [
    {
     "name": "stdout",
     "output_type": "stream",
     "text": [
      "20.7752000052\n"
     ]
    }
   ],
   "source": [
    "r = 3# rank of truncated SVD\n",
    "\n",
    "# YOUR WORK FOR QUESTION B HERE \n",
    "U_truncated = U[:, :r]\n",
    "S_truncated = np.diag(s[:r])\n",
    "VT_truncated = VT[:r, :]\n",
    "\n",
    "# Construct the approximate rank 3 matrix\n",
    "ratings_approx = U_truncated.dot(S_truncated.dot(VT_truncated))\n",
    "percentage_error = np.linalg.norm(ratings - ratings_approx)/np.linalg.norm(ratings) * 100\n",
    "print(percentage_error)"
   ]
  },
  {
   "cell_type": "markdown",
   "metadata": {},
   "source": [
    "We will now load the professor's ratings."
   ]
  },
  {
   "cell_type": "code",
   "execution_count": 5,
   "metadata": {
    "collapsed": false
   },
   "outputs": [
    {
     "name": "stdout",
     "output_type": "stream",
     "text": [
      "ratings_arcak = {'Grease': 2.253, 'Jaws': 3.0, '2001: A Space Odyssey': 3.0, 'The Godfather': 3.498, 'Toy Story': 3.249}\n",
      "ratings_maharbiz = {'Spinal Tap': 3.996, 'Jaws': 2.751, 'Groundhog Day': 3.0, 'Rushmore': 3.747}\n"
     ]
    }
   ],
   "source": [
    "import json \n",
    "with open('data_arcak.json') as data_file:    \n",
    "    ratings_arcak = json.load(data_file)\n",
    "with open('data_maharbiz.json') as data_file:    \n",
    "    ratings_maharbiz = json.load(data_file)\n",
    "\n",
    "print(\"ratings_arcak =\", ratings_arcak)\n",
    "print(\"ratings_maharbiz =\", ratings_maharbiz)"
   ]
  },
  {
   "cell_type": "markdown",
   "metadata": {},
   "source": [
    "Since the professors have each only seen a small number of movies, we will need to estimate their preferences based on only those movies. Recall the we have abstracted our movie ratings in vector form. For example, Brian's ratings in vectors form is, \n",
    "\n",
    "$$\\begin{bmatrix} \n",
    "    \\text{Harry Potter} \\\\ \\text{Groundhog day} \\\\ \\vdots \\\\ \\text{Lord of the rings}\n",
    "\\end{bmatrix} = \\begin{bmatrix} \n",
    "    3 \\\\ 2 \\\\ \\vdots \\\\ 4\n",
    "\\end{bmatrix}$$"
   ]
  },
  {
   "cell_type": "markdown",
   "metadata": {},
   "source": [
    "# Question C\n",
    "\n",
    "1. Construct the vector representations of the Professors' ratings by setting the unknown movie ratings to the corresponding entries from the mean of the rows $u$. \n",
    "2. Subtract the mean $u$ from the resulting vector.\n",
    "\n",
    "***Hint.*** Use ```list(student_data.columns).index()``` to determine the appropriate indexes."
   ]
  },
  {
   "cell_type": "code",
   "execution_count": 6,
   "metadata": {
    "collapsed": false
   },
   "outputs": [],
   "source": [
    "# YOUR WORK FOR QUESTION C HERE\n",
    "\n",
    "prof_arcak = u.copy()\n",
    "for key, value in ratings_arcak.items():\n",
    "    prof_arcak[list(student_data.columns).index(key)] = value\n",
    "    \n",
    "prof_maharbiz = u.copy()\n",
    "for key, value in ratings_maharbiz.items():\n",
    "    prof_maharbiz[list(student_data.columns).index(key)] = value\n",
    "    \n",
    "prof_arcak = prof_arcak - u\n",
    "prof_maharbiz = prof_maharbiz - u"
   ]
  },
  {
   "cell_type": "markdown",
   "metadata": {},
   "source": [
    "### Some notes.\n",
    "- $V$ forms a basis for the rows of our ratings matrix and represents the \"principal directions\" of user reviews. \n",
    "- It is a model assumption that, if you like a certain group of movies, those movies will share similar characteristics. Sci-fi and action films, for example, have more in common than rom-coms usually, and we try and exploit that. \n",
    "- If we have two right singular vectors $v_1$ and $v_2$, $v_1$ could represent that principal \"action\" direction and $v_2$ could represent the principal \"rom-com\" direction. For example, dominantly action film will be something like $10 v_1 + 02 v_2$ and a dominantly rom-com film will have something like $0.1 v_1 + 5 v_2$. A movie that is a rom-com action film would be some weighted somewhat evenly, like $2 v_1 + 2 v_2$. \n",
    "- Since we have a way of defining the characteristics of a film in terms of the basis vectors in $V$, we can try to guess the remaining ratings for the Professors by projecting their ratings onto $V$. For example, if the projection onto $v_1$ is higher than $v_2$, it suggests that the person would like action films more that rom-coms. We will use this idea to guess the ratings. "
   ]
  },
  {
   "cell_type": "markdown",
   "metadata": {
    "collapsed": false
   },
   "source": [
    "# Question D\n",
    "\n",
    "We have $3$ principal components $(v_1, v_2, v_3)$ with ```VT_truncated``` being,\n",
    "$$\\begin{bmatrix} | & | & | \\\\ v_1 & v_2 & v_3\\\\ | & | & | \\end{bmatrix}^T$$\n",
    "Construct ```proj_arcak``` and ```proj_maharbiz``` by calculating the representations of ```prof_arcak``` and ```prof_maharbiz``` in terms of $(v_1, v_2, v_3)$. That is to say, if $x$ is ```prof_arcak```,\n",
    "$$\\text{prof_arcak} = \\langle x , v_1 \\rangle v_1 +  \\langle x , v_2 \\rangle v_2 +  \\langle x , v_3 \\rangle v_3$$\n",
    "***Hint.*** Remember orthonormal projections."
   ]
  },
  {
   "cell_type": "code",
   "execution_count": 7,
   "metadata": {
    "collapsed": false
   },
   "outputs": [],
   "source": [
    "# YOUR WORK FOR QUESTION D HERE\n",
    "V_truncated = VT_truncated.T\n",
    "proj_arcak = V_truncated.dot(VT_truncated.dot(prof_arcak))\n",
    "proj_maharbiz = V_truncated.dot(VT_truncated.dot(prof_maharbiz))"
   ]
  },
  {
   "cell_type": "markdown",
   "metadata": {},
   "source": [
    "# Question E\n",
    "\n",
    "We're almost there! We now simply need to account for the mean $u$. Define ```pred_arcak``` and ```pred_maharbiz``` as,\n",
    "$$\\text{pred_arcak} = \\text{proj_arcak} + u \\text{ and } \\text{pred_maharbiz} = \\text{proj_maharbiz} + u$$\n",
    "This effectively adds the bias back. "
   ]
  },
  {
   "cell_type": "code",
   "execution_count": 8,
   "metadata": {
    "collapsed": false
   },
   "outputs": [],
   "source": [
    "# YOUR WORK FOR PART E HERE\n",
    "pred_arcak = proj_arcak + u\n",
    "pred_maharbiz = proj_maharbiz + u"
   ]
  },
  {
   "cell_type": "markdown",
   "metadata": {},
   "source": [
    "# Question F\n",
    "\n",
    "Find the movie corresponding the largest entry of ```pred_arcak``` and ```pred_maharbiz```. This is your first guess at a movie recommendation! "
   ]
  },
  {
   "cell_type": "code",
   "execution_count": 9,
   "metadata": {
    "collapsed": false
   },
   "outputs": [
    {
     "name": "stdout",
     "output_type": "stream",
     "text": [
      "Professor Arcak should watch Spiderman\n",
      "Professor Maharbiz should watch Groundhog Day\n"
     ]
    }
   ],
   "source": [
    "# YOUR WORK FOR QUESTION F HERE\n",
    "movie4arcak = student_data.columns[np.argmax(pred_arcak)]\n",
    "movie4maharbiz = student_data.columns[np.argmax(pred_maharbiz)]\n",
    "print(\"Professor Arcak should watch %s\" % movie4arcak)\n",
    "print(\"Professor Maharbiz should watch %s\" % movie4maharbiz)"
   ]
  },
  {
   "cell_type": "markdown",
   "metadata": {},
   "source": [
    "# Question G\n",
    "Professor Maharbiz has already seen his recommendation. What's the next best movie you can recommend? "
   ]
  },
  {
   "cell_type": "code",
   "execution_count": 10,
   "metadata": {
    "collapsed": false
   },
   "outputs": [
    {
     "name": "stdout",
     "output_type": "stream",
     "text": [
      "Professor Maharbiz should watch Harry Potter\n"
     ]
    }
   ],
   "source": [
    "# YOUR WORK FOR QUESTION G HERE\n",
    "bettermovie5maharbiz = student_data.columns[np.argmax(list(pred_maharbiz).pop(np.argmax(pred_maharbiz)))]\n",
    "print(\"Professor Maharbiz should watch %s\" % bettermovie5maharbiz)"
   ]
  },
  {
   "cell_type": "code",
   "execution_count": null,
   "metadata": {
    "collapsed": true
   },
   "outputs": [],
   "source": []
  }
 ],
 "metadata": {
  "anaconda-cloud": {},
  "kernelspec": {
   "display_name": "Python [Root]",
   "language": "python",
   "name": "Python [Root]"
  },
  "language_info": {
   "codemirror_mode": {
    "name": "ipython",
    "version": 3
   },
   "file_extension": ".py",
   "mimetype": "text/x-python",
   "name": "python",
   "nbconvert_exporter": "python",
   "pygments_lexer": "ipython3",
   "version": "3.5.2"
  }
 },
 "nbformat": 4,
 "nbformat_minor": 0
}
